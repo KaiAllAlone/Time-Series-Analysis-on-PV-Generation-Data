{
  "nbformat": 4,
  "nbformat_minor": 0,
  "metadata": {
    "colab": {
      "provenance": [],
      "gpuType": "T4"
    },
    "kernelspec": {
      "name": "python3",
      "display_name": "Python 3"
    },
    "language_info": {
      "name": "python"
    },
    "accelerator": "GPU"
  },
  "cells": [
    {
      "cell_type": "code",
      "execution_count": null,
      "metadata": {
        "id": "WdxHBryXcOA0",
        "colab": {
          "base_uri": "https://localhost:8080/"
        },
        "outputId": "34c4c1ae-ac26-4461-df0c-b07991a4a108"
      },
      "outputs": [
        {
          "output_type": "stream",
          "name": "stdout",
          "text": [
            "Requirement already satisfied: scienceplots in /usr/local/lib/python3.11/dist-packages (2.1.1)\n",
            "Requirement already satisfied: matplotlib in /usr/local/lib/python3.11/dist-packages (from scienceplots) (3.10.0)\n",
            "Requirement already satisfied: contourpy>=1.0.1 in /usr/local/lib/python3.11/dist-packages (from matplotlib->scienceplots) (1.3.2)\n",
            "Requirement already satisfied: cycler>=0.10 in /usr/local/lib/python3.11/dist-packages (from matplotlib->scienceplots) (0.12.1)\n",
            "Requirement already satisfied: fonttools>=4.22.0 in /usr/local/lib/python3.11/dist-packages (from matplotlib->scienceplots) (4.59.0)\n",
            "Requirement already satisfied: kiwisolver>=1.3.1 in /usr/local/lib/python3.11/dist-packages (from matplotlib->scienceplots) (1.4.8)\n",
            "Requirement already satisfied: numpy>=1.23 in /usr/local/lib/python3.11/dist-packages (from matplotlib->scienceplots) (2.0.2)\n",
            "Requirement already satisfied: packaging>=20.0 in /usr/local/lib/python3.11/dist-packages (from matplotlib->scienceplots) (25.0)\n",
            "Requirement already satisfied: pillow>=8 in /usr/local/lib/python3.11/dist-packages (from matplotlib->scienceplots) (11.3.0)\n",
            "Requirement already satisfied: pyparsing>=2.3.1 in /usr/local/lib/python3.11/dist-packages (from matplotlib->scienceplots) (3.2.3)\n",
            "Requirement already satisfied: python-dateutil>=2.7 in /usr/local/lib/python3.11/dist-packages (from matplotlib->scienceplots) (2.9.0.post0)\n",
            "Requirement already satisfied: six>=1.5 in /usr/local/lib/python3.11/dist-packages (from python-dateutil>=2.7->matplotlib->scienceplots) (1.17.0)\n"
          ]
        }
      ],
      "source": [
        "import os\n",
        "import pandas as pd\n",
        "import numpy as np\n",
        "import matplotlib.pyplot as mp\n",
        "from sklearn.model_selection import train_test_split\n",
        "import seaborn as sn\n",
        "import random\n",
        "import tensorflow as tf\n",
        "from sklearn.preprocessing import MinMaxScaler\n",
        "!pip install scienceplots\n",
        "from google.colab import files\n",
        "import scienceplots\n",
        "mp.style.use(['science','ieee','grid','no-latex'])"
      ]
    },
    {
      "cell_type": "code",
      "source": [
        "def save_model(model,name):\n",
        "  model.save(f'{name}.h5')\n",
        "  files.download(f'{name}.h5')"
      ],
      "metadata": {
        "id": "V2r9I7mY0bhp"
      },
      "execution_count": null,
      "outputs": []
    },
    {
      "cell_type": "code",
      "source": [
        "mp.rcParams['lines.marker']='.'\n",
        "mp.rcParams['lines.linestyle']='-'\n",
        "mp.rcParams['lines.markersize']=6\n",
        "mp.rcParams['lines.linewidth']=1.5\n",
        "mp.rcParams['figure.figsize']=(6, 3)\n",
        "mp.rcParams['figure.dpi']=100"
      ],
      "metadata": {
        "id": "nqeOAVkwWT6Q"
      },
      "execution_count": null,
      "outputs": []
    },
    {
      "cell_type": "markdown",
      "source": [
        "**Extracting the first 120000 readings(takes some time):-**"
      ],
      "metadata": {
        "id": "b_Pbm7oDAP47"
      }
    },
    {
      "cell_type": "code",
      "execution_count": null,
      "metadata": {
        "id": "B6sZaohF03Ts"
      },
      "outputs": [],
      "source": [
        "full=pd.read_csv('/content/PVGen.csv', on_bad_lines='skip')\n",
        "full=full.iloc[0:190000,:]"
      ]
    },
    {
      "cell_type": "markdown",
      "source": [
        "**Creating a seperate column to store only the dates:-**"
      ],
      "metadata": {
        "id": "qw5XslTOAXNF"
      }
    },
    {
      "cell_type": "code",
      "execution_count": null,
      "metadata": {
        "id": "U57bvsWrD-pB"
      },
      "outputs": [],
      "source": [
        "dates = pd.to_datetime(full['Time'], format='%d-%m-%Y %H:%M', errors='coerce').dt.strftime('%m-%d-%y').to_numpy()"
      ]
    },
    {
      "cell_type": "code",
      "execution_count": null,
      "metadata": {
        "id": "mI7ZP7YaG20N"
      },
      "outputs": [],
      "source": [
        "full['Date']=dates"
      ]
    },
    {
      "cell_type": "code",
      "execution_count": null,
      "metadata": {
        "colab": {
          "base_uri": "https://localhost:8080/",
          "height": 424
        },
        "id": "01t37f3DFmIs",
        "outputId": "7477eeb2-a2e9-4c57-ac18-fe5d349b0675"
      },
      "outputs": [
        {
          "output_type": "execute_result",
          "data": {
            "text/plain": [
              "                    Time  Energy delta[Wh]   GHI  temp  pressure  humidity  \\\n",
              "0       01-01-2017 00:00                 0   0.0   1.6      1021       100   \n",
              "1       01-01-2017 00:15                 0   0.0   1.6      1021       100   \n",
              "2       01-01-2017 00:30                 0   0.0   1.6      1021       100   \n",
              "3       01-01-2017 00:45                 0   0.0   1.6      1021       100   \n",
              "4       01-01-2017 01:00                 0   0.0   1.7      1020       100   \n",
              "...                  ...               ...   ...   ...       ...       ...   \n",
              "189995  22-06-2022 02:45                42   2.9   8.0      1013        99   \n",
              "189996  22-06-2022 03:00                60   7.3   8.3      1013       100   \n",
              "189997  22-06-2022 03:15                79  12.9   8.3      1013       100   \n",
              "189998  22-06-2022 03:30                98  17.0   8.3      1013       100   \n",
              "189999  22-06-2022 03:45               117  25.6   8.3      1013       100   \n",
              "\n",
              "        wind_speed  rain_1h  snow_1h  clouds_all  isSun  sunlightTime  \\\n",
              "0              4.9      0.0      0.0         100      0             0   \n",
              "1              4.9      0.0      0.0         100      0             0   \n",
              "2              4.9      0.0      0.0         100      0             0   \n",
              "3              4.9      0.0      0.0         100      0             0   \n",
              "4              5.2      0.0      0.0         100      0             0   \n",
              "...            ...      ...      ...         ...    ...           ...   \n",
              "189995         2.4      0.0      0.0          67      1            30   \n",
              "189996         2.0      0.0      0.0          55      1            45   \n",
              "189997         2.0      0.0      0.0          55      1            60   \n",
              "189998         2.0      0.0      0.0          55      1            75   \n",
              "189999         2.0      0.0      0.0          55      1            90   \n",
              "\n",
              "        dayLength  SunlightTime/daylength  weather_type  hour  month      Date  \n",
              "0             450                    0.00             4     0      1  01-01-17  \n",
              "1             450                    0.00             4     0      1  01-01-17  \n",
              "2             450                    0.00             4     0      1  01-01-17  \n",
              "3             450                    0.00             4     0      1  01-01-17  \n",
              "4             450                    0.00             4     1      1  01-01-17  \n",
              "...           ...                     ...           ...   ...    ...       ...  \n",
              "189995       1020                    0.03             3     2      6  06-22-22  \n",
              "189996       1020                    0.04             3     3      6  06-22-22  \n",
              "189997       1020                    0.06             3     3      6  06-22-22  \n",
              "189998       1020                    0.07             3     3      6  06-22-22  \n",
              "189999       1020                    0.09             3     3      6  06-22-22  \n",
              "\n",
              "[190000 rows x 18 columns]"
            ],
            "text/html": [
              "\n",
              "  <div id=\"df-f8707243-de07-41ae-8eca-323cabad5374\" class=\"colab-df-container\">\n",
              "    <div>\n",
              "<style scoped>\n",
              "    .dataframe tbody tr th:only-of-type {\n",
              "        vertical-align: middle;\n",
              "    }\n",
              "\n",
              "    .dataframe tbody tr th {\n",
              "        vertical-align: top;\n",
              "    }\n",
              "\n",
              "    .dataframe thead th {\n",
              "        text-align: right;\n",
              "    }\n",
              "</style>\n",
              "<table border=\"1\" class=\"dataframe\">\n",
              "  <thead>\n",
              "    <tr style=\"text-align: right;\">\n",
              "      <th></th>\n",
              "      <th>Time</th>\n",
              "      <th>Energy delta[Wh]</th>\n",
              "      <th>GHI</th>\n",
              "      <th>temp</th>\n",
              "      <th>pressure</th>\n",
              "      <th>humidity</th>\n",
              "      <th>wind_speed</th>\n",
              "      <th>rain_1h</th>\n",
              "      <th>snow_1h</th>\n",
              "      <th>clouds_all</th>\n",
              "      <th>isSun</th>\n",
              "      <th>sunlightTime</th>\n",
              "      <th>dayLength</th>\n",
              "      <th>SunlightTime/daylength</th>\n",
              "      <th>weather_type</th>\n",
              "      <th>hour</th>\n",
              "      <th>month</th>\n",
              "      <th>Date</th>\n",
              "    </tr>\n",
              "  </thead>\n",
              "  <tbody>\n",
              "    <tr>\n",
              "      <th>0</th>\n",
              "      <td>01-01-2017 00:00</td>\n",
              "      <td>0</td>\n",
              "      <td>0.0</td>\n",
              "      <td>1.6</td>\n",
              "      <td>1021</td>\n",
              "      <td>100</td>\n",
              "      <td>4.9</td>\n",
              "      <td>0.0</td>\n",
              "      <td>0.0</td>\n",
              "      <td>100</td>\n",
              "      <td>0</td>\n",
              "      <td>0</td>\n",
              "      <td>450</td>\n",
              "      <td>0.00</td>\n",
              "      <td>4</td>\n",
              "      <td>0</td>\n",
              "      <td>1</td>\n",
              "      <td>01-01-17</td>\n",
              "    </tr>\n",
              "    <tr>\n",
              "      <th>1</th>\n",
              "      <td>01-01-2017 00:15</td>\n",
              "      <td>0</td>\n",
              "      <td>0.0</td>\n",
              "      <td>1.6</td>\n",
              "      <td>1021</td>\n",
              "      <td>100</td>\n",
              "      <td>4.9</td>\n",
              "      <td>0.0</td>\n",
              "      <td>0.0</td>\n",
              "      <td>100</td>\n",
              "      <td>0</td>\n",
              "      <td>0</td>\n",
              "      <td>450</td>\n",
              "      <td>0.00</td>\n",
              "      <td>4</td>\n",
              "      <td>0</td>\n",
              "      <td>1</td>\n",
              "      <td>01-01-17</td>\n",
              "    </tr>\n",
              "    <tr>\n",
              "      <th>2</th>\n",
              "      <td>01-01-2017 00:30</td>\n",
              "      <td>0</td>\n",
              "      <td>0.0</td>\n",
              "      <td>1.6</td>\n",
              "      <td>1021</td>\n",
              "      <td>100</td>\n",
              "      <td>4.9</td>\n",
              "      <td>0.0</td>\n",
              "      <td>0.0</td>\n",
              "      <td>100</td>\n",
              "      <td>0</td>\n",
              "      <td>0</td>\n",
              "      <td>450</td>\n",
              "      <td>0.00</td>\n",
              "      <td>4</td>\n",
              "      <td>0</td>\n",
              "      <td>1</td>\n",
              "      <td>01-01-17</td>\n",
              "    </tr>\n",
              "    <tr>\n",
              "      <th>3</th>\n",
              "      <td>01-01-2017 00:45</td>\n",
              "      <td>0</td>\n",
              "      <td>0.0</td>\n",
              "      <td>1.6</td>\n",
              "      <td>1021</td>\n",
              "      <td>100</td>\n",
              "      <td>4.9</td>\n",
              "      <td>0.0</td>\n",
              "      <td>0.0</td>\n",
              "      <td>100</td>\n",
              "      <td>0</td>\n",
              "      <td>0</td>\n",
              "      <td>450</td>\n",
              "      <td>0.00</td>\n",
              "      <td>4</td>\n",
              "      <td>0</td>\n",
              "      <td>1</td>\n",
              "      <td>01-01-17</td>\n",
              "    </tr>\n",
              "    <tr>\n",
              "      <th>4</th>\n",
              "      <td>01-01-2017 01:00</td>\n",
              "      <td>0</td>\n",
              "      <td>0.0</td>\n",
              "      <td>1.7</td>\n",
              "      <td>1020</td>\n",
              "      <td>100</td>\n",
              "      <td>5.2</td>\n",
              "      <td>0.0</td>\n",
              "      <td>0.0</td>\n",
              "      <td>100</td>\n",
              "      <td>0</td>\n",
              "      <td>0</td>\n",
              "      <td>450</td>\n",
              "      <td>0.00</td>\n",
              "      <td>4</td>\n",
              "      <td>1</td>\n",
              "      <td>1</td>\n",
              "      <td>01-01-17</td>\n",
              "    </tr>\n",
              "    <tr>\n",
              "      <th>...</th>\n",
              "      <td>...</td>\n",
              "      <td>...</td>\n",
              "      <td>...</td>\n",
              "      <td>...</td>\n",
              "      <td>...</td>\n",
              "      <td>...</td>\n",
              "      <td>...</td>\n",
              "      <td>...</td>\n",
              "      <td>...</td>\n",
              "      <td>...</td>\n",
              "      <td>...</td>\n",
              "      <td>...</td>\n",
              "      <td>...</td>\n",
              "      <td>...</td>\n",
              "      <td>...</td>\n",
              "      <td>...</td>\n",
              "      <td>...</td>\n",
              "      <td>...</td>\n",
              "    </tr>\n",
              "    <tr>\n",
              "      <th>189995</th>\n",
              "      <td>22-06-2022 02:45</td>\n",
              "      <td>42</td>\n",
              "      <td>2.9</td>\n",
              "      <td>8.0</td>\n",
              "      <td>1013</td>\n",
              "      <td>99</td>\n",
              "      <td>2.4</td>\n",
              "      <td>0.0</td>\n",
              "      <td>0.0</td>\n",
              "      <td>67</td>\n",
              "      <td>1</td>\n",
              "      <td>30</td>\n",
              "      <td>1020</td>\n",
              "      <td>0.03</td>\n",
              "      <td>3</td>\n",
              "      <td>2</td>\n",
              "      <td>6</td>\n",
              "      <td>06-22-22</td>\n",
              "    </tr>\n",
              "    <tr>\n",
              "      <th>189996</th>\n",
              "      <td>22-06-2022 03:00</td>\n",
              "      <td>60</td>\n",
              "      <td>7.3</td>\n",
              "      <td>8.3</td>\n",
              "      <td>1013</td>\n",
              "      <td>100</td>\n",
              "      <td>2.0</td>\n",
              "      <td>0.0</td>\n",
              "      <td>0.0</td>\n",
              "      <td>55</td>\n",
              "      <td>1</td>\n",
              "      <td>45</td>\n",
              "      <td>1020</td>\n",
              "      <td>0.04</td>\n",
              "      <td>3</td>\n",
              "      <td>3</td>\n",
              "      <td>6</td>\n",
              "      <td>06-22-22</td>\n",
              "    </tr>\n",
              "    <tr>\n",
              "      <th>189997</th>\n",
              "      <td>22-06-2022 03:15</td>\n",
              "      <td>79</td>\n",
              "      <td>12.9</td>\n",
              "      <td>8.3</td>\n",
              "      <td>1013</td>\n",
              "      <td>100</td>\n",
              "      <td>2.0</td>\n",
              "      <td>0.0</td>\n",
              "      <td>0.0</td>\n",
              "      <td>55</td>\n",
              "      <td>1</td>\n",
              "      <td>60</td>\n",
              "      <td>1020</td>\n",
              "      <td>0.06</td>\n",
              "      <td>3</td>\n",
              "      <td>3</td>\n",
              "      <td>6</td>\n",
              "      <td>06-22-22</td>\n",
              "    </tr>\n",
              "    <tr>\n",
              "      <th>189998</th>\n",
              "      <td>22-06-2022 03:30</td>\n",
              "      <td>98</td>\n",
              "      <td>17.0</td>\n",
              "      <td>8.3</td>\n",
              "      <td>1013</td>\n",
              "      <td>100</td>\n",
              "      <td>2.0</td>\n",
              "      <td>0.0</td>\n",
              "      <td>0.0</td>\n",
              "      <td>55</td>\n",
              "      <td>1</td>\n",
              "      <td>75</td>\n",
              "      <td>1020</td>\n",
              "      <td>0.07</td>\n",
              "      <td>3</td>\n",
              "      <td>3</td>\n",
              "      <td>6</td>\n",
              "      <td>06-22-22</td>\n",
              "    </tr>\n",
              "    <tr>\n",
              "      <th>189999</th>\n",
              "      <td>22-06-2022 03:45</td>\n",
              "      <td>117</td>\n",
              "      <td>25.6</td>\n",
              "      <td>8.3</td>\n",
              "      <td>1013</td>\n",
              "      <td>100</td>\n",
              "      <td>2.0</td>\n",
              "      <td>0.0</td>\n",
              "      <td>0.0</td>\n",
              "      <td>55</td>\n",
              "      <td>1</td>\n",
              "      <td>90</td>\n",
              "      <td>1020</td>\n",
              "      <td>0.09</td>\n",
              "      <td>3</td>\n",
              "      <td>3</td>\n",
              "      <td>6</td>\n",
              "      <td>06-22-22</td>\n",
              "    </tr>\n",
              "  </tbody>\n",
              "</table>\n",
              "<p>190000 rows × 18 columns</p>\n",
              "</div>\n",
              "    <div class=\"colab-df-buttons\">\n",
              "\n",
              "  <div class=\"colab-df-container\">\n",
              "    <button class=\"colab-df-convert\" onclick=\"convertToInteractive('df-f8707243-de07-41ae-8eca-323cabad5374')\"\n",
              "            title=\"Convert this dataframe to an interactive table.\"\n",
              "            style=\"display:none;\">\n",
              "\n",
              "  <svg xmlns=\"http://www.w3.org/2000/svg\" height=\"24px\" viewBox=\"0 -960 960 960\">\n",
              "    <path d=\"M120-120v-720h720v720H120Zm60-500h600v-160H180v160Zm220 220h160v-160H400v160Zm0 220h160v-160H400v160ZM180-400h160v-160H180v160Zm440 0h160v-160H620v160ZM180-180h160v-160H180v160Zm440 0h160v-160H620v160Z\"/>\n",
              "  </svg>\n",
              "    </button>\n",
              "\n",
              "  <style>\n",
              "    .colab-df-container {\n",
              "      display:flex;\n",
              "      gap: 12px;\n",
              "    }\n",
              "\n",
              "    .colab-df-convert {\n",
              "      background-color: #E8F0FE;\n",
              "      border: none;\n",
              "      border-radius: 50%;\n",
              "      cursor: pointer;\n",
              "      display: none;\n",
              "      fill: #1967D2;\n",
              "      height: 32px;\n",
              "      padding: 0 0 0 0;\n",
              "      width: 32px;\n",
              "    }\n",
              "\n",
              "    .colab-df-convert:hover {\n",
              "      background-color: #E2EBFA;\n",
              "      box-shadow: 0px 1px 2px rgba(60, 64, 67, 0.3), 0px 1px 3px 1px rgba(60, 64, 67, 0.15);\n",
              "      fill: #174EA6;\n",
              "    }\n",
              "\n",
              "    .colab-df-buttons div {\n",
              "      margin-bottom: 4px;\n",
              "    }\n",
              "\n",
              "    [theme=dark] .colab-df-convert {\n",
              "      background-color: #3B4455;\n",
              "      fill: #D2E3FC;\n",
              "    }\n",
              "\n",
              "    [theme=dark] .colab-df-convert:hover {\n",
              "      background-color: #434B5C;\n",
              "      box-shadow: 0px 1px 3px 1px rgba(0, 0, 0, 0.15);\n",
              "      filter: drop-shadow(0px 1px 2px rgba(0, 0, 0, 0.3));\n",
              "      fill: #FFFFFF;\n",
              "    }\n",
              "  </style>\n",
              "\n",
              "    <script>\n",
              "      const buttonEl =\n",
              "        document.querySelector('#df-f8707243-de07-41ae-8eca-323cabad5374 button.colab-df-convert');\n",
              "      buttonEl.style.display =\n",
              "        google.colab.kernel.accessAllowed ? 'block' : 'none';\n",
              "\n",
              "      async function convertToInteractive(key) {\n",
              "        const element = document.querySelector('#df-f8707243-de07-41ae-8eca-323cabad5374');\n",
              "        const dataTable =\n",
              "          await google.colab.kernel.invokeFunction('convertToInteractive',\n",
              "                                                    [key], {});\n",
              "        if (!dataTable) return;\n",
              "\n",
              "        const docLinkHtml = 'Like what you see? Visit the ' +\n",
              "          '<a target=\"_blank\" href=https://colab.research.google.com/notebooks/data_table.ipynb>data table notebook</a>'\n",
              "          + ' to learn more about interactive tables.';\n",
              "        element.innerHTML = '';\n",
              "        dataTable['output_type'] = 'display_data';\n",
              "        await google.colab.output.renderOutput(dataTable, element);\n",
              "        const docLink = document.createElement('div');\n",
              "        docLink.innerHTML = docLinkHtml;\n",
              "        element.appendChild(docLink);\n",
              "      }\n",
              "    </script>\n",
              "  </div>\n",
              "\n",
              "\n",
              "    <div id=\"df-7c4ba752-c929-4268-8828-033ceec609aa\">\n",
              "      <button class=\"colab-df-quickchart\" onclick=\"quickchart('df-7c4ba752-c929-4268-8828-033ceec609aa')\"\n",
              "                title=\"Suggest charts\"\n",
              "                style=\"display:none;\">\n",
              "\n",
              "<svg xmlns=\"http://www.w3.org/2000/svg\" height=\"24px\"viewBox=\"0 0 24 24\"\n",
              "     width=\"24px\">\n",
              "    <g>\n",
              "        <path d=\"M19 3H5c-1.1 0-2 .9-2 2v14c0 1.1.9 2 2 2h14c1.1 0 2-.9 2-2V5c0-1.1-.9-2-2-2zM9 17H7v-7h2v7zm4 0h-2V7h2v10zm4 0h-2v-4h2v4z\"/>\n",
              "    </g>\n",
              "</svg>\n",
              "      </button>\n",
              "\n",
              "<style>\n",
              "  .colab-df-quickchart {\n",
              "      --bg-color: #E8F0FE;\n",
              "      --fill-color: #1967D2;\n",
              "      --hover-bg-color: #E2EBFA;\n",
              "      --hover-fill-color: #174EA6;\n",
              "      --disabled-fill-color: #AAA;\n",
              "      --disabled-bg-color: #DDD;\n",
              "  }\n",
              "\n",
              "  [theme=dark] .colab-df-quickchart {\n",
              "      --bg-color: #3B4455;\n",
              "      --fill-color: #D2E3FC;\n",
              "      --hover-bg-color: #434B5C;\n",
              "      --hover-fill-color: #FFFFFF;\n",
              "      --disabled-bg-color: #3B4455;\n",
              "      --disabled-fill-color: #666;\n",
              "  }\n",
              "\n",
              "  .colab-df-quickchart {\n",
              "    background-color: var(--bg-color);\n",
              "    border: none;\n",
              "    border-radius: 50%;\n",
              "    cursor: pointer;\n",
              "    display: none;\n",
              "    fill: var(--fill-color);\n",
              "    height: 32px;\n",
              "    padding: 0;\n",
              "    width: 32px;\n",
              "  }\n",
              "\n",
              "  .colab-df-quickchart:hover {\n",
              "    background-color: var(--hover-bg-color);\n",
              "    box-shadow: 0 1px 2px rgba(60, 64, 67, 0.3), 0 1px 3px 1px rgba(60, 64, 67, 0.15);\n",
              "    fill: var(--button-hover-fill-color);\n",
              "  }\n",
              "\n",
              "  .colab-df-quickchart-complete:disabled,\n",
              "  .colab-df-quickchart-complete:disabled:hover {\n",
              "    background-color: var(--disabled-bg-color);\n",
              "    fill: var(--disabled-fill-color);\n",
              "    box-shadow: none;\n",
              "  }\n",
              "\n",
              "  .colab-df-spinner {\n",
              "    border: 2px solid var(--fill-color);\n",
              "    border-color: transparent;\n",
              "    border-bottom-color: var(--fill-color);\n",
              "    animation:\n",
              "      spin 1s steps(1) infinite;\n",
              "  }\n",
              "\n",
              "  @keyframes spin {\n",
              "    0% {\n",
              "      border-color: transparent;\n",
              "      border-bottom-color: var(--fill-color);\n",
              "      border-left-color: var(--fill-color);\n",
              "    }\n",
              "    20% {\n",
              "      border-color: transparent;\n",
              "      border-left-color: var(--fill-color);\n",
              "      border-top-color: var(--fill-color);\n",
              "    }\n",
              "    30% {\n",
              "      border-color: transparent;\n",
              "      border-left-color: var(--fill-color);\n",
              "      border-top-color: var(--fill-color);\n",
              "      border-right-color: var(--fill-color);\n",
              "    }\n",
              "    40% {\n",
              "      border-color: transparent;\n",
              "      border-right-color: var(--fill-color);\n",
              "      border-top-color: var(--fill-color);\n",
              "    }\n",
              "    60% {\n",
              "      border-color: transparent;\n",
              "      border-right-color: var(--fill-color);\n",
              "    }\n",
              "    80% {\n",
              "      border-color: transparent;\n",
              "      border-right-color: var(--fill-color);\n",
              "      border-bottom-color: var(--fill-color);\n",
              "    }\n",
              "    90% {\n",
              "      border-color: transparent;\n",
              "      border-bottom-color: var(--fill-color);\n",
              "    }\n",
              "  }\n",
              "</style>\n",
              "\n",
              "      <script>\n",
              "        async function quickchart(key) {\n",
              "          const quickchartButtonEl =\n",
              "            document.querySelector('#' + key + ' button');\n",
              "          quickchartButtonEl.disabled = true;  // To prevent multiple clicks.\n",
              "          quickchartButtonEl.classList.add('colab-df-spinner');\n",
              "          try {\n",
              "            const charts = await google.colab.kernel.invokeFunction(\n",
              "                'suggestCharts', [key], {});\n",
              "          } catch (error) {\n",
              "            console.error('Error during call to suggestCharts:', error);\n",
              "          }\n",
              "          quickchartButtonEl.classList.remove('colab-df-spinner');\n",
              "          quickchartButtonEl.classList.add('colab-df-quickchart-complete');\n",
              "        }\n",
              "        (() => {\n",
              "          let quickchartButtonEl =\n",
              "            document.querySelector('#df-7c4ba752-c929-4268-8828-033ceec609aa button');\n",
              "          quickchartButtonEl.style.display =\n",
              "            google.colab.kernel.accessAllowed ? 'block' : 'none';\n",
              "        })();\n",
              "      </script>\n",
              "    </div>\n",
              "\n",
              "  <div id=\"id_3f1de19c-bb4d-4abb-91f8-0127d567b3fa\">\n",
              "    <style>\n",
              "      .colab-df-generate {\n",
              "        background-color: #E8F0FE;\n",
              "        border: none;\n",
              "        border-radius: 50%;\n",
              "        cursor: pointer;\n",
              "        display: none;\n",
              "        fill: #1967D2;\n",
              "        height: 32px;\n",
              "        padding: 0 0 0 0;\n",
              "        width: 32px;\n",
              "      }\n",
              "\n",
              "      .colab-df-generate:hover {\n",
              "        background-color: #E2EBFA;\n",
              "        box-shadow: 0px 1px 2px rgba(60, 64, 67, 0.3), 0px 1px 3px 1px rgba(60, 64, 67, 0.15);\n",
              "        fill: #174EA6;\n",
              "      }\n",
              "\n",
              "      [theme=dark] .colab-df-generate {\n",
              "        background-color: #3B4455;\n",
              "        fill: #D2E3FC;\n",
              "      }\n",
              "\n",
              "      [theme=dark] .colab-df-generate:hover {\n",
              "        background-color: #434B5C;\n",
              "        box-shadow: 0px 1px 3px 1px rgba(0, 0, 0, 0.15);\n",
              "        filter: drop-shadow(0px 1px 2px rgba(0, 0, 0, 0.3));\n",
              "        fill: #FFFFFF;\n",
              "      }\n",
              "    </style>\n",
              "    <button class=\"colab-df-generate\" onclick=\"generateWithVariable('full')\"\n",
              "            title=\"Generate code using this dataframe.\"\n",
              "            style=\"display:none;\">\n",
              "\n",
              "  <svg xmlns=\"http://www.w3.org/2000/svg\" height=\"24px\"viewBox=\"0 0 24 24\"\n",
              "       width=\"24px\">\n",
              "    <path d=\"M7,19H8.4L18.45,9,17,7.55,7,17.6ZM5,21V16.75L18.45,3.32a2,2,0,0,1,2.83,0l1.4,1.43a1.91,1.91,0,0,1,.58,1.4,1.91,1.91,0,0,1-.58,1.4L9.25,21ZM18.45,9,17,7.55Zm-12,3A5.31,5.31,0,0,0,4.9,8.1,5.31,5.31,0,0,0,1,6.5,5.31,5.31,0,0,0,4.9,4.9,5.31,5.31,0,0,0,6.5,1,5.31,5.31,0,0,0,8.1,4.9,5.31,5.31,0,0,0,12,6.5,5.46,5.46,0,0,0,6.5,12Z\"/>\n",
              "  </svg>\n",
              "    </button>\n",
              "    <script>\n",
              "      (() => {\n",
              "      const buttonEl =\n",
              "        document.querySelector('#id_3f1de19c-bb4d-4abb-91f8-0127d567b3fa button.colab-df-generate');\n",
              "      buttonEl.style.display =\n",
              "        google.colab.kernel.accessAllowed ? 'block' : 'none';\n",
              "\n",
              "      buttonEl.onclick = () => {\n",
              "        google.colab.notebook.generateWithVariable('full');\n",
              "      }\n",
              "      })();\n",
              "    </script>\n",
              "  </div>\n",
              "\n",
              "    </div>\n",
              "  </div>\n"
            ],
            "application/vnd.google.colaboratory.intrinsic+json": {
              "type": "dataframe",
              "variable_name": "full"
            }
          },
          "metadata": {},
          "execution_count": 284
        }
      ],
      "source": [
        "full"
      ]
    },
    {
      "cell_type": "code",
      "execution_count": null,
      "metadata": {
        "id": "GFDjG6rVIDs-"
      },
      "outputs": [],
      "source": [
        "buffer=np.array([])\n",
        "start=0\n",
        "while(start<190000):  #0-95 same date\n",
        "  date=dates[start]\n",
        "  mask_dataframe=full['Date']==date\n",
        "  filtered_dataframe=full[mask_dataframe]\n",
        "  mean=np.mean(filtered_dataframe['Energy delta[Wh]'])\n",
        "  buffer=np.append(buffer,mean)\n",
        "  start=start+96"
      ]
    },
    {
      "cell_type": "code",
      "source": [
        "week_data=np.array([])\n",
        "start=0\n",
        "while(start<len(buffer)):\n",
        "  date=dates[start]\n",
        "  mean=np.mean(buffer[start:start+7])\n",
        "  week_data=np.append(week_data,mean)\n",
        "  start=start+7\n"
      ],
      "metadata": {
        "id": "bOfBDR_h4evG"
      },
      "execution_count": null,
      "outputs": []
    },
    {
      "cell_type": "code",
      "execution_count": null,
      "metadata": {
        "id": "hQGsmOWvQ1FV"
      },
      "outputs": [],
      "source": [
        "index=np.array(range(0,len(week_data)))\n",
        "dict_data={'index':index,'week_data':week_data}\n",
        "df=pd.DataFrame(dict_data)"
      ]
    },
    {
      "cell_type": "markdown",
      "source": [
        "**<h1><u>ARIMA MODEL</u></h1>**\n"
      ],
      "metadata": {
        "id": "a8Arbe0Ccxbu"
      }
    },
    {
      "cell_type": "code",
      "execution_count": null,
      "metadata": {
        "id": "TNbeBbdL5aiL"
      },
      "outputs": [],
      "source": [
        "from statsmodels.graphics.tsaplots import plot_acf,plot_pacf\n",
        "X_train,X_test,y_train,y_test=train_test_split(df['index'],df['week_data'],test_size=54,shuffle=False)\n"
      ]
    },
    {
      "cell_type": "code",
      "source": [
        "sn.lineplot(data=df,x='index',y='week_data')"
      ],
      "metadata": {
        "colab": {
          "base_uri": "https://localhost:8080/",
          "height": 306
        },
        "id": "2KGUQdVjdBga",
        "outputId": "61844cd6-7bcf-4d3b-cf37-5bcbaa0b0bbc"
      },
      "execution_count": null,
      "outputs": [
        {
          "output_type": "execute_result",
          "data": {
            "text/plain": [
              "<Axes: xlabel='index', ylabel='week_data'>"
            ]
          },
          "metadata": {},
          "execution_count": 289
        },
        {
          "output_type": "display_data",
          "data": {
            "text/plain": [
              "<Figure size 600x300 with 1 Axes>"
            ],
            "image/png": "[encoded data removed]"
          },
          "metadata": {}
        }
      ]
    },
    {
      "cell_type": "markdown",
      "source": [
        "**Using PMDARIMA to give the optimal value of differencing order(d) using ndiffs() function:-**"
      ],
      "metadata": {
        "id": "e8k-MfJFCZAT"
      }
    },
    {
      "cell_type": "code",
      "execution_count": null,
      "metadata": {
        "colab": {
          "base_uri": "https://localhost:8080/"
        },
        "id": "ITW1v2KyxjkM",
        "outputId": "08160833-be14-4cc0-ee07-fd99a903469a",
        "collapsed": true
      },
      "outputs": [
        {
          "output_type": "stream",
          "name": "stdout",
          "text": [
            "Requirement already satisfied: pmdarima in /usr/local/lib/python3.11/dist-packages (2.0.4)\n",
            "Requirement already satisfied: joblib>=0.11 in /usr/local/lib/python3.11/dist-packages (from pmdarima) (1.5.1)\n",
            "Requirement already satisfied: Cython!=0.29.18,!=0.29.31,>=0.29 in /usr/local/lib/python3.11/dist-packages (from pmdarima) (3.0.12)\n",
            "Requirement already satisfied: numpy>=1.21.2 in /usr/local/lib/python3.11/dist-packages (from pmdarima) (2.0.2)\n",
            "Requirement already satisfied: pandas>=0.19 in /usr/local/lib/python3.11/dist-packages (from pmdarima) (2.2.2)\n",
            "Requirement already satisfied: scikit-learn>=0.22 in /usr/local/lib/python3.11/dist-packages (from pmdarima) (1.6.1)\n",
            "Requirement already satisfied: scipy>=1.3.2 in /usr/local/lib/python3.11/dist-packages (from pmdarima) (1.16.0)\n",
            "Requirement already satisfied: statsmodels>=0.13.2 in /usr/local/lib/python3.11/dist-packages (from pmdarima) (0.14.5)\n",
            "Requirement already satisfied: urllib3 in /usr/local/lib/python3.11/dist-packages (from pmdarima) (2.5.0)\n",
            "Requirement already satisfied: setuptools!=50.0.0,>=38.6.0 in /usr/local/lib/python3.11/dist-packages (from pmdarima) (75.2.0)\n",
            "Requirement already satisfied: packaging>=17.1 in /usr/local/lib/python3.11/dist-packages (from pmdarima) (25.0)\n",
            "Requirement already satisfied: python-dateutil>=2.8.2 in /usr/local/lib/python3.11/dist-packages (from pandas>=0.19->pmdarima) (2.9.0.post0)\n",
            "Requirement already satisfied: pytz>=2020.1 in /usr/local/lib/python3.11/dist-packages (from pandas>=0.19->pmdarima) (2025.2)\n",
            "Requirement already satisfied: tzdata>=2022.7 in /usr/local/lib/python3.11/dist-packages (from pandas>=0.19->pmdarima) (2025.2)\n",
            "Requirement already satisfied: threadpoolctl>=3.1.0 in /usr/local/lib/python3.11/dist-packages (from scikit-learn>=0.22->pmdarima) (3.6.0)\n",
            "Requirement already satisfied: patsy>=0.5.6 in /usr/local/lib/python3.11/dist-packages (from statsmodels>=0.13.2->pmdarima) (1.0.1)\n",
            "Requirement already satisfied: six>=1.5 in /usr/local/lib/python3.11/dist-packages (from python-dateutil>=2.8.2->pandas>=0.19->pmdarima) (1.17.0)\n"
          ]
        }
      ],
      "source": [
        "!pip install pmdarima"
      ]
    },
    {
      "cell_type": "code",
      "execution_count": null,
      "metadata": {
        "id": "do4H9IQ9Pkn5",
        "collapsed": true,
        "colab": {
          "base_uri": "https://localhost:8080/"
        },
        "outputId": "7a178ffb-6b61-4539-f868-4b9776e9e282"
      },
      "outputs": [
        {
          "output_type": "stream",
          "name": "stdout",
          "text": [
            "ADF Statistic: -15.358028136430141\n",
            "p-value: 3.644355383330194e-28\n",
            "Critical Value (1%): -3.4596204846395824\n",
            "Critical Value (5%): -2.8744153028455948\n",
            "Critical Value (10%): -2.5736320761218576\n"
          ]
        }
      ],
      "source": [
        "\n",
        "from statsmodels.tsa.stattools import adfuller\n",
        "result = adfuller(y_train.diff().dropna())\n",
        "print('ADF Statistic:', result[0])\n",
        "print('p-value:', result[1])\n",
        "for key, value in result[4].items():\n",
        "    print(f'Critical Value ({key}): {value}')\n"
      ]
    },
    {
      "cell_type": "code",
      "execution_count": null,
      "metadata": {
        "colab": {
          "base_uri": "https://localhost:8080/",
          "height": 319
        },
        "id": "xf1yqp0Jftfl",
        "outputId": "395f0a80-3ddb-480e-f2bd-5c4b09213034"
      },
      "outputs": [
        {
          "output_type": "display_data",
          "data": {
            "text/plain": [
              "<Figure size 300x300 with 0 Axes>"
            ]
          },
          "metadata": {}
        },
        {
          "output_type": "display_data",
          "data": {
            "text/plain": [
              "<Figure size 600x300 with 1 Axes>"
            ],
            "image/png": "[encoded data removed]"
          },
          "metadata": {}
        }
      ],
      "source": [
        "mp.figure(figsize=(3,3),dpi=100)\n",
        "plot_pacf(pd.Series(y_train).diff().dropna(),\n",
        "          lags=30,\n",
        "          method='ywm')\n",
        "mp.tight_layout()\n",
        "mp.show()\n",
        "#AR terms can be 1"
      ]
    },
    {
      "cell_type": "code",
      "execution_count": null,
      "metadata": {
        "colab": {
          "base_uri": "https://localhost:8080/",
          "height": 292
        },
        "id": "JuzYEEIUUJhF",
        "outputId": "6ff89e33-565b-4d38-d64d-65708867c522"
      },
      "outputs": [
        {
          "output_type": "display_data",
          "data": {
            "text/plain": [
              "<Figure size 600x300 with 1 Axes>"
            ],
            "image/png": "[encoded data removed]"
          },
          "metadata": {}
        }
      ],
      "source": [
        "plot_acf(pd.Series(y_train).diff().dropna());\n",
        "#MA term can be 1"
      ]
    },
    {
      "cell_type": "markdown",
      "source": [
        "**As this is seasonal data we use Seasonal ARIMA with a seasonal differencing term of 52 as the data is weekly:**"
      ],
      "metadata": {
        "id": "SZeQrB9kDJUI"
      }
    },
    {
      "cell_type": "code",
      "source": [
        "y_seasonal_diff = y_train.diff(50).dropna()\n",
        "from statsmodels.graphics.tsaplots import plot_acf, plot_pacf\n",
        "plot_acf(y_seasonal_diff, lags=60)\n",
        "plot_pacf(y_seasonal_diff, lags=60)\n"
      ],
      "metadata": {
        "colab": {
          "base_uri": "https://localhost:8080/",
          "height": 842
        },
        "id": "UJro2S2enuMp",
        "outputId": "412db4fe-1026-43f2-bc0d-64b01616d5da"
      },
      "execution_count": null,
      "outputs": [
        {
          "output_type": "execute_result",
          "data": {
            "text/plain": [
              "<Figure size 600x300 with 1 Axes>"
            ],
            "image/png": "[encoded data removed]"
          },
          "metadata": {},
          "execution_count": 294
        },
        {
          "output_type": "display_data",
          "data": {
            "text/plain": [
              "<Figure size 600x300 with 1 Axes>"
            ],
            "image/png": "[encoded data removed]"
          },
          "metadata": {}
        },
        {
          "output_type": "display_data",
          "data": {
            "text/plain": [
              "<Figure size 600x300 with 1 Axes>"
            ],
            "image/png": "[encoded data removed]"
          },
          "metadata": {}
        }
      ]
    },
    {
      "cell_type": "code",
      "execution_count": null,
      "metadata": {
        "id": "RCGEdsja6Rfr",
        "collapsed": true,
        "colab": {
          "base_uri": "https://localhost:8080/"
        },
        "outputId": "bcba8f94-7c14-4145-8f50-c26614078dc0"
      },
      "outputs": [
        {
          "output_type": "stream",
          "name": "stderr",
          "text": [
            "/usr/local/lib/python3.11/dist-packages/statsmodels/tsa/statespace/sarimax.py:866: UserWarning: Too few observations to estimate starting parameters for seasonal ARMA. All parameters except for variances will be set to zeros.\n",
            "  warn('Too few observations to estimate starting parameters%s.'\n"
          ]
        }
      ],
      "source": [
        "from statsmodels.tsa.statespace.sarimax import SARIMAX\n",
        "model=SARIMAX(y_train,order=(1,1,1),seasonal_order=(2,1,3,50))\n",
        "result=model.fit()"
      ]
    },
    {
      "cell_type": "code",
      "source": [
        "y_train_fit = result.predict(start=y_train.index[0],\n",
        "                               end=y_train.index[-1],\n",
        "                               typ='levels')"
      ],
      "metadata": {
        "id": "CFHz5fKgbrl6"
      },
      "execution_count": null,
      "outputs": []
    },
    {
      "cell_type": "code",
      "source": [
        "mp.figure(figsize=(6,3),dpi=100)\n",
        "sn.lineplot(y_train_fit,label='predicted',linestyle='-',marker='.')\n",
        "sn.lineplot(y_train,label='actual')"
      ],
      "metadata": {
        "id": "03N_cK9rb3Jy"
      },
      "execution_count": null,
      "outputs": []
    },
    {
      "cell_type": "code",
      "execution_count": null,
      "metadata": {
        "id": "C0XSdmmX-d7e"
      },
      "outputs": [],
      "source": [
        "steps = len(X_test)\n",
        "final_result_arima = result.forecast(steps=steps)\n",
        "final_result_arima.index = X_test.index  # align it with actual test data"
      ]
    },
    {
      "cell_type": "code",
      "source": [],
      "metadata": {
        "id": "Z2VzRMYAcapP"
      },
      "execution_count": null,
      "outputs": []
    },
    {
      "cell_type": "code",
      "source": [
        "len(X_test)"
      ],
      "metadata": {
        "id": "BC565aSJqm0C"
      },
      "execution_count": null,
      "outputs": []
    },
    {
      "cell_type": "markdown",
      "source": [
        "# **The ARIMA model's inference on the test data:**#"
      ],
      "metadata": {
        "id": "0EcgyweSD6pv"
      }
    },
    {
      "cell_type": "code",
      "source": [
        "mp.figure(figsize=(6,3),dpi=100)\n",
        "sn.lineplot(final_result_arima,label='predicted',linestyle='-',marker='.',color='red')\n",
        "sn.lineplot(y_test,label='actual',color='black')\n",
        "mp.savefig(\"arima.svg\", format='svg')"
      ],
      "metadata": {
        "id": "78xuT1Jw2aYi"
      },
      "execution_count": null,
      "outputs": []
    },
    {
      "cell_type": "markdown",
      "source": [
        "# <u>**Transformer**"
      ],
      "metadata": {
        "id": "pFWt6WYgU0kP"
      }
    },
    {
      "cell_type": "code",
      "source": [
        "import torch\n",
        "import torch.nn as nn\n",
        "from torch.utils.data import Dataset,DataLoader\n",
        "from sklearn.preprocessing import MinMaxScaler\n",
        "from tqdm.notebook import tqdm\n",
        "data = df['week_data']\n",
        "scaler=MinMaxScaler()\n",
        "scaled_data = scaler.fit_transform(data.values.reshape(-1, 1))\n",
        "SEQ_LEN=25\n",
        "BATCH_SIZE=64\n",
        "EPOCHS=30\n",
        "D_MODEL=64\n",
        "LR=0.001\n",
        "split_idx=int(229)\n",
        "train_data=scaled_data[:split_idx]\n",
        "test_data=scaled_data[split_idx-SEQ_LEN:]\n",
        "device = torch.device(\"cuda\" if torch.cuda.is_available() else \"cpu\")\n",
        "class PVGenDataset(Dataset):\n",
        "    def __init__(self, data, seq_len):\n",
        "        self.X,self.y=[],[]\n",
        "        for i in range(len(data)-seq_len):\n",
        "            self.X.append(data[i:i+seq_len])\n",
        "            self.y.append(data[i+seq_len])\n",
        "        self.X=torch.tensor(np.array(self.X),dtype=torch.float32)\n",
        "        self.y=torch.tensor(np.array(self.y),dtype=torch.float32)\n",
        "    def __len__(self):\n",
        "        return len(self.X)\n",
        "    def __getitem__(self, idx):\n",
        "        return self.X[idx], self.y[idx]\n",
        "\n",
        "train_dataset=PVGenDataset(train_data, SEQ_LEN)\n",
        "test_dataset=PVGenDataset(test_data, SEQ_LEN)\n",
        "train_loader=DataLoader(train_dataset, batch_size=BATCH_SIZE, shuffle=True)\n",
        "test_loader=DataLoader(test_dataset, batch_size=1, shuffle=False)\n",
        "class TransformerModel(nn.Module):\n",
        "    def __init__(self, d_model, nhead, num_layers, dropout=0.1):\n",
        "        super().__init__()\n",
        "        self.pos_encoder=nn.Parameter(torch.randn(SEQ_LEN, d_model))\n",
        "        self.input_fc=nn.Linear(1, d_model)\n",
        "        encoder_layer=nn.TransformerEncoderLayer(d_model=d_model, nhead=nhead, dropout=dropout, batch_first=True)\n",
        "        self.transformer=nn.TransformerEncoder(encoder_layer, num_layers=num_layers)\n",
        "        self.decoder=nn.Linear(d_model, 1)\n",
        "    def forward(self,x):\n",
        "        x = self.input_fc(x)+self.pos_encoder\n",
        "        x = self.transformer(x)\n",
        "        return self.decoder(x[:,-1,:])\n",
        "\n",
        "model = TransformerModel(d_model=D_MODEL, nhead=4, num_layers=2).to(device)\n",
        "optimizer = torch.optim.Adam(model.parameters(),lr=LR)\n",
        "criterion = nn.MSELoss()\n",
        "# Training loop\n",
        "for epoch in tqdm(range(EPOCHS), desc=\"Training Epochs\"):\n",
        "    model.train()\n",
        "    losses = []\n",
        "    loop = tqdm(train_loader, desc=f\"Epoch [{epoch+1}/{EPOCHS}]\",leave=False)\n",
        "    for xb, yb in loop:\n",
        "        xb = xb.to(device)\n",
        "        yb = yb.to(device)\n",
        "        optimizer.zero_grad()\n",
        "        out = model(xb)\n",
        "        loss = criterion(out.squeeze(),yb.squeeze())\n",
        "        loss.backward()\n",
        "        optimizer.step()\n",
        "        losses.append(loss.item())\n",
        "    print(f\"Epoch {epoch+1}/{EPOCHS} - Loss: {np.mean(losses):.6f}\")\n",
        "# Evaluation on test set\n",
        "model.eval()\n",
        "predictions_transformer = []\n",
        "actuals = []\n",
        "\n",
        "with torch.no_grad():\n",
        "    for xb, yb in test_loader:\n",
        "        xb = xb.to(device)\n",
        "        yb = yb.to(device)\n",
        "        out = model(xb)\n",
        "        predictions_transformer.append(out.item())\n",
        "        actuals.append(yb.item())\n",
        "\n",
        "# Inverse transform predictions\n",
        "predictions_transformer = scaler.inverse_transform(np.array(predictions_transformer).reshape(-1, 1)).flatten()\n",
        "actuals = scaler.inverse_transform(np.array(actuals).reshape(-1, 1)).flatten()\n",
        "\n",
        "# Plot actual vs predicted\n",
        "mp.figure(figsize=(6,3),dpi=100)\n",
        "mp.plot(actuals, label='actual')\n",
        "mp.plot(predictions_transformer, label='predicted',color='blue')\n",
        "mp.xlabel(\"Time Step\")\n",
        "mp.ylabel(\"PV Generation\")\n",
        "mp.title(\"Actual vs Predicted PV Generation (Test Set)\")\n",
        "mp.legend()\n",
        "mp.grid(True)\n",
        "mp.tight_layout()\n",
        "mp.savefig(\"transformer.svg\", format='svg')\n",
        "mp.show()\n"
      ],
      "metadata": {
        "id": "VEtQUEePVAA3"
      },
      "execution_count": null,
      "outputs": []
    },
    {
      "cell_type": "code",
      "source": [
        "len(predictions_transformer)"
      ],
      "metadata": {
        "id": "3F6qA2FDkoeq"
      },
      "execution_count": null,
      "outputs": []
    },
    {
      "cell_type": "markdown",
      "source": [
        "**<h1><u>LSTM Model</u></h1>**"
      ],
      "metadata": {
        "id": "CmvXztjzde1S"
      }
    },
    {
      "cell_type": "markdown",
      "source": [
        "**Importing libraries for creation of network:-**"
      ],
      "metadata": {
        "id": "LulSKgvu-Utq"
      }
    },
    {
      "cell_type": "code",
      "source": [
        "import tensorflow as tf\n",
        "from tensorflow.keras.layers import LSTM\n",
        "from tensorflow.keras.layers import Dense,BatchNormalization\n",
        "from tensorflow.keras.models import Sequential\n",
        "from tensorflow.keras.layers import Dropout\n",
        "from sklearn.preprocessing import MinMaxScaler\n",
        "from sklearn.metrics import mean_squared_error\n",
        "from tensorflow.keras.callbacks import EarlyStopping"
      ],
      "metadata": {
        "id": "ZHT1KHvAvzoO"
      },
      "execution_count": null,
      "outputs": []
    },
    {
      "cell_type": "markdown",
      "source": [
        "**Creating the network:-**"
      ],
      "metadata": {
        "id": "-6jMzx6u-bUn"
      }
    },
    {
      "cell_type": "code",
      "source": [
        "model=Sequential()\n",
        "model.add(LSTM(700,activation='relu',input_shape=(7,1),return_sequences=True))\n",
        "model.add(LSTM(500,activation='relu',return_sequences=True))\n",
        "model.add(LSTM(200,activation='relu',return_sequences=True))\n",
        "model.add(LSTM(100,activation='relu'))\n",
        "model.add(Dense(100))\n",
        "model.add(Dense(50))\n",
        "model.add(Dense(25))\n",
        "model.add(Dense(12))\n",
        "model.add(Dense(1))\n",
        "model.compile(optimizer='adam',loss='mae')"
      ],
      "metadata": {
        "id": "wUPGboCZxs7u"
      },
      "execution_count": null,
      "outputs": []
    },
    {
      "cell_type": "markdown",
      "source": [
        "## **Creating Training Data:-**"
      ],
      "metadata": {
        "id": "lHY7Y1oW-gGL"
      }
    },
    {
      "cell_type": "markdown",
      "source": [
        "**Each output corresponds to the 52 values recorded before it taken as input:-**"
      ],
      "metadata": {
        "id": "tbQDRQ0X-nez"
      }
    },
    {
      "cell_type": "code",
      "source": [
        "inputs=[]\n",
        "outputs=[]\n",
        "for i in range(0, len(df) - 7):\n",
        "    inputs.append(df['week_data'][i:i+7])\n",
        "    outputs.append(df['week_data'][i+7])\n",
        "inputs=np.array(inputs)\n",
        "outputs=np.array(outputs)\n"
      ],
      "metadata": {
        "id": "vjjJE_tW2Ugm"
      },
      "execution_count": null,
      "outputs": []
    },
    {
      "cell_type": "code",
      "source": [
        "inputs.shape"
      ],
      "metadata": {
        "id": "At8OwnQS52D4"
      },
      "execution_count": null,
      "outputs": []
    },
    {
      "cell_type": "code",
      "source": [
        "outputs.shape"
      ],
      "metadata": {
        "id": "ZxtlSXPQ56Vb"
      },
      "execution_count": null,
      "outputs": []
    },
    {
      "cell_type": "code",
      "source": [
        "params=EarlyStopping(monitor='val_loss',patience=50)"
      ],
      "metadata": {
        "id": "poB4ofa9eAwP"
      },
      "execution_count": null,
      "outputs": []
    },
    {
      "cell_type": "code",
      "source": [
        "X_train,X_test,y_train,y_test=train_test_split(inputs,outputs,test_size=54,shuffle=False)\n"
      ],
      "metadata": {
        "id": "maefMqrt3zN7"
      },
      "execution_count": null,
      "outputs": []
    },
    {
      "cell_type": "code",
      "source": [
        "len(X_test)"
      ],
      "metadata": {
        "id": "oGoJJ8pmrAEL"
      },
      "execution_count": null,
      "outputs": []
    },
    {
      "cell_type": "code",
      "source": [
        "history=model.fit(X_train,y_train,epochs=300,validation_data=(X_test,y_test),callbacks=[params])\n",
        "model.save('lstm.h5')\n"
      ],
      "metadata": {
        "id": "GPecH9rpzpsH",
        "collapsed": true
      },
      "execution_count": null,
      "outputs": []
    },
    {
      "cell_type": "code",
      "source": [
        "sn.lineplot(history.history['loss'],label='training loss',color='red')\n",
        "sn.lineplot(history.history['val_loss'],label='validation loss',color='blue')"
      ],
      "metadata": {
        "id": "uPDzNyfV0oOU"
      },
      "execution_count": null,
      "outputs": []
    },
    {
      "cell_type": "code",
      "source": [
        "prediction_lstm=model.predict(X_test)"
      ],
      "metadata": {
        "id": "Hupn51N-0tMz"
      },
      "execution_count": null,
      "outputs": []
    },
    {
      "cell_type": "code",
      "source": [
        "prediction_lstm.shape"
      ],
      "metadata": {
        "id": "D4vkc2Jpdp6M"
      },
      "execution_count": null,
      "outputs": []
    },
    {
      "cell_type": "code",
      "source": [
        "preds=prediction_lstm.flatten()"
      ],
      "metadata": {
        "id": "T06rnhv306mH"
      },
      "execution_count": null,
      "outputs": []
    },
    {
      "cell_type": "code",
      "source": [
        "preds"
      ],
      "metadata": {
        "id": "TTou7l-M7wQw"
      },
      "execution_count": null,
      "outputs": []
    },
    {
      "cell_type": "code",
      "source": [
        "y_test=y_test.flatten()"
      ],
      "metadata": {
        "id": "6i5QnZOhXB_G"
      },
      "execution_count": null,
      "outputs": []
    },
    {
      "cell_type": "markdown",
      "source": [
        "#**The LSTM model's inference on the test data:-**"
      ],
      "metadata": {
        "id": "9CiOAuuD_vz6"
      }
    },
    {
      "cell_type": "code",
      "source": [
        "index=np.array(range(0,len(preds)))\n",
        "mp.figure(figsize=(6,3),dpi=100)\n",
        "sn.lineplot(x=index,y=preds,label='prediction',color='green')\n",
        "sn.lineplot(x=index,y=y_test,label='actual',color='black')\n",
        "mp.savefig(\"lstm.svg\", format='svg')"
      ],
      "metadata": {
        "id": "8_lye5Pu73j7"
      },
      "execution_count": null,
      "outputs": []
    },
    {
      "cell_type": "code",
      "source": [
        "len(y_test)"
      ],
      "metadata": {
        "id": "MumrqFAEoCQp"
      },
      "execution_count": null,
      "outputs": []
    },
    {
      "cell_type": "markdown",
      "source": [
        "**<h1><u>VAR Model</u></h1>**"
      ],
      "metadata": {
        "id": "bpLn5Wp-ev31"
      }
    },
    {
      "cell_type": "code",
      "source": [
        "from statsmodels.tsa.vector_ar.var_model import VAR"
      ],
      "metadata": {
        "id": "AQi1ge6ke3z-"
      },
      "execution_count": null,
      "outputs": []
    },
    {
      "cell_type": "markdown",
      "source": [
        "**<h3>As the VAR Model uses at least two features to make predictions we will use the dayLength as second feature:- </h3>**"
      ],
      "metadata": {
        "id": "gQ6USxtzHXS8"
      }
    },
    {
      "cell_type": "code",
      "source": [
        "buffer_e=np.array([])\n",
        "buffer_r=np.array([])\n",
        "start=0\n",
        "while(start<len(dates)):  #0-95 same date\n",
        "  date=dates[start]\n",
        "  mask_dataframe=full['Date']==date\n",
        "  filtered_dataframe=full[mask_dataframe]\n",
        "  mean_e=np.mean(filtered_dataframe['Energy delta[Wh]'])\n",
        "  mean_r=np.mean(filtered_dataframe['dayLength'])\n",
        "  buffer_e=np.append(buffer_e,mean_e)\n",
        "  buffer_r=np.append(buffer_r,mean_r)\n",
        "  start=start+96"
      ],
      "metadata": {
        "id": "qxyrBqr2t_BS"
      },
      "execution_count": null,
      "outputs": []
    },
    {
      "cell_type": "code",
      "source": [
        "week_data_e=np.array([])\n",
        "week_data_r=np.array([])\n",
        "start=0\n",
        "while(start<len(buffer_e)):\n",
        "  date=dates[start]\n",
        "  mean_e=np.mean(buffer_e[start:start+7])\n",
        "  mean_r=np.mean(buffer_r[start:start+7])\n",
        "  week_data_e=np.append(week_data_e,mean_e)\n",
        "  week_data_r=np.append(week_data_r,mean_r)\n",
        "  start=start+7\n"
      ],
      "metadata": {
        "id": "JtHDVr3suElO"
      },
      "execution_count": null,
      "outputs": []
    },
    {
      "cell_type": "code",
      "source": [
        "index=np.array(range(0,len(week_data_e)))\n",
        "dict_data={'week_data':week_data_e,'day_data':week_data_r}\n",
        "df=pd.DataFrame(dict_data)"
      ],
      "metadata": {
        "id": "Jrntp4SRuFV_"
      },
      "execution_count": null,
      "outputs": []
    },
    {
      "cell_type": "markdown",
      "source": [
        "**Creating the model:-**"
      ],
      "metadata": {
        "id": "-xXCPXnsfXhc"
      }
    },
    {
      "cell_type": "code",
      "source": [
        "diff_e=df['week_data'].dropna()\n",
        "diff_r=df['day_data']"
      ],
      "metadata": {
        "id": "407aBLMD5Q3b"
      },
      "execution_count": null,
      "outputs": []
    },
    {
      "cell_type": "code",
      "source": [
        "sn.lineplot(diff_e,color='red')\n",
        "sn.lineplot(diff_r,color='blue')\n",
        "df['week_data']=diff_e\n",
        "df['day_data']=diff_r"
      ],
      "metadata": {
        "id": "WpoiBzt95WFs"
      },
      "execution_count": null,
      "outputs": []
    },
    {
      "cell_type": "code",
      "source": [
        "from sklearn.model_selection import train_test_split\n",
        "X_train,x_test=train_test_split(df,test_size=54,shuffle=False)"
      ],
      "metadata": {
        "id": "ZIZSHpZ75oRM"
      },
      "execution_count": null,
      "outputs": []
    },
    {
      "cell_type": "code",
      "source": [
        "X_train"
      ],
      "metadata": {
        "id": "6HWlaLoL6fcJ"
      },
      "execution_count": null,
      "outputs": []
    },
    {
      "cell_type": "code",
      "source": [
        "model=VAR(X_train)"
      ],
      "metadata": {
        "id": "HnVk5ALh7jGF"
      },
      "execution_count": null,
      "outputs": []
    },
    {
      "cell_type": "markdown",
      "source": [
        "**<h3>Past 25 values will be used to make predictions</h3>**"
      ],
      "metadata": {
        "id": "d6Q9hspeHpsu"
      }
    },
    {
      "cell_type": "code",
      "source": [
        "results=model.fit(maxlags=25)"
      ],
      "metadata": {
        "id": "UEd1LEf0A0ot"
      },
      "execution_count": null,
      "outputs": []
    },
    {
      "cell_type": "code",
      "source": [
        "forecast = results.forecast(x_test.values, steps=len(x_test))\n",
        "forecast = np.array(forecast)\n"
      ],
      "metadata": {
        "id": "7FEHiXx37q_X"
      },
      "execution_count": null,
      "outputs": []
    },
    {
      "cell_type": "code",
      "source": [
        "prediction_var=np.array([])\n",
        "for a in forecast:\n",
        "  prediction_var=np.append(prediction_var,a[0])\n"
      ],
      "metadata": {
        "id": "0RNmT58xVXKn"
      },
      "execution_count": null,
      "outputs": []
    },
    {
      "cell_type": "code",
      "source": [
        "x_test['indices']=range(0,len(x_test))"
      ],
      "metadata": {
        "id": "bMQYi_WlXtTQ"
      },
      "execution_count": null,
      "outputs": []
    },
    {
      "cell_type": "code",
      "source": [
        "prediction_var_df=pd.DataFrame([])\n",
        "prediction_var_df['prediction']=prediction_var\n",
        "prediction_var_df['indices']=range(0,len(x_test))"
      ],
      "metadata": {
        "id": "g0YQfr32YUus"
      },
      "execution_count": null,
      "outputs": []
    },
    {
      "cell_type": "code",
      "source": [
        "prediction_var_df"
      ],
      "metadata": {
        "id": "fNW5iU5SLTY7"
      },
      "execution_count": null,
      "outputs": []
    },
    {
      "cell_type": "markdown",
      "source": [
        "# **The VAR Model's inference on test data:-**"
      ],
      "metadata": {
        "id": "AYOylrNfKOGp"
      }
    },
    {
      "cell_type": "code",
      "source": [
        "mp.figure(figsize=(6,3))\n",
        "sn.lineplot(data=x_test,y='week_data',x='indices',legend=True,color='black')\n",
        "sn.lineplot(data=prediction_var_df,y='prediction',x='indices',legend=True,color='brown')\n",
        "mp.savefig(\"var.svg\", format='svg')"
      ],
      "metadata": {
        "id": "EHN9mUA0WHh7"
      },
      "execution_count": null,
      "outputs": []
    },
    {
      "cell_type": "code",
      "source": [
        "len(y_test)"
      ],
      "metadata": {
        "id": "uL2m-Fgkj-4n"
      },
      "execution_count": null,
      "outputs": []
    },
    {
      "cell_type": "markdown",
      "source": [
        "**<h1><u>Accessing the predictions of the three models</h1></u>**"
      ],
      "metadata": {
        "id": "X_eIuWmcwQ4a"
      }
    },
    {
      "cell_type": "code",
      "source": [
        "final_result_arima"
      ],
      "metadata": {
        "id": "8GWeZKR0wiMJ"
      },
      "execution_count": null,
      "outputs": []
    },
    {
      "cell_type": "code",
      "source": [
        "final_result_arima.shape"
      ],
      "metadata": {
        "id": "vf0tzUK2wmhz"
      },
      "execution_count": null,
      "outputs": []
    },
    {
      "cell_type": "code",
      "source": [
        "prediction_arima=final_result_arima.to_numpy()"
      ],
      "metadata": {
        "id": "tazLixG8xMbZ"
      },
      "execution_count": null,
      "outputs": []
    },
    {
      "cell_type": "code",
      "source": [
        "sn.lineplot(prediction_arima,label='predicted',color='red')\n",
        "sn.lineplot(y_test,color='black')"
      ],
      "metadata": {
        "id": "8w-joSty1ELf"
      },
      "execution_count": null,
      "outputs": []
    },
    {
      "cell_type": "code",
      "source": [
        "prediction_lstm=prediction_lstm.flatten()"
      ],
      "metadata": {
        "id": "580qCT3vws2t"
      },
      "execution_count": null,
      "outputs": []
    },
    {
      "cell_type": "code",
      "source": [
        "sn.lineplot(prediction_lstm,label='predicted',color='blue')\n",
        "sn.lineplot(y_test,color='black')"
      ],
      "metadata": {
        "id": "W0ohgShm1IPy"
      },
      "execution_count": null,
      "outputs": []
    },
    {
      "cell_type": "code",
      "source": [
        "sn.lineplot(prediction_var,label='predicted',color='green')\n",
        "sn.lineplot(y_test,color='black')"
      ],
      "metadata": {
        "id": "TH62xQMo1Mqq"
      },
      "execution_count": null,
      "outputs": []
    },
    {
      "cell_type": "code",
      "source": [
        "sn.lineplot(predictions_transformer,label='predicted',color='lime')\n",
        "sn.lineplot(y_test,color='black')"
      ],
      "metadata": {
        "id": "96e6Ua5PhkIh"
      },
      "execution_count": null,
      "outputs": []
    },
    {
      "cell_type": "code",
      "source": [
        "prediction_combined=np.array([])\n",
        "for i in range(0,54):\n",
        "  comb=[prediction_arima[i],prediction_lstm[i],prediction_var[i],predictions_transformer[i]]\n",
        "  prediction_combined=np.append(prediction_combined,[comb])\n",
        "prediction_combined=prediction_combined.reshape(54,4)\n",
        "prediction_combined.shape"
      ],
      "metadata": {
        "id": "DISgwqy7ypoL"
      },
      "execution_count": null,
      "outputs": []
    },
    {
      "cell_type": "markdown",
      "source": [
        "**<h2>Combining results using Simple Average:-</h2>**"
      ],
      "metadata": {
        "id": "IC8eRFm63TEx"
      }
    },
    {
      "cell_type": "code",
      "source": [
        "predictions_meaned=np.array([])\n",
        "for i in range(0,54):\n",
        "  predictions_meaned=np.append(predictions_meaned,np.mean([prediction_combined[i][0],prediction_combined[i][1],prediction_combined[i][2],prediction_combined[i][3]]))\n",
        "print(predictions_meaned)\n",
        "len(predictions_meaned)"
      ],
      "metadata": {
        "id": "vOIOASQezHcr"
      },
      "execution_count": null,
      "outputs": []
    },
    {
      "cell_type": "code",
      "source": [
        "y_test_df=pd.DataFrame(y_test)\n",
        "y_test_df['index']=range(0,len(y_test))\n",
        "y_test_df"
      ],
      "metadata": {
        "collapsed": true,
        "id": "8Dp2UsOrzzrT"
      },
      "execution_count": null,
      "outputs": []
    },
    {
      "cell_type": "markdown",
      "source": [
        "# **The inference of Simple Mean Ensemble model on dataset:**"
      ],
      "metadata": {
        "id": "GO4c71n1KmgW"
      }
    },
    {
      "cell_type": "code",
      "source": [
        "sn.lineplot(y_test,color='black')\n",
        "sn.lineplot(predictions_meaned,label='predicted',color='silver')\n",
        "mp.savefig(\"simple_mean.svg\", format='svg')"
      ],
      "metadata": {
        "id": "7PHtx4UGzonW"
      },
      "execution_count": null,
      "outputs": []
    },
    {
      "cell_type": "code",
      "source": [
        "loss_mse=mean_squared_error(y_test,predictions_meaned)\n",
        "difference=np.absolute(y_test-predictions_meaned)\n",
        "loss_mae=np.mean(difference)\n",
        "print(loss_mse)\n",
        "print(loss_mae)"
      ],
      "metadata": {
        "id": "pnKXJOBD2t_u"
      },
      "execution_count": null,
      "outputs": []
    },
    {
      "cell_type": "markdown",
      "source": [
        "**<h2>Combining results using CNN model:-</h2>**"
      ],
      "metadata": {
        "id": "s92NXq_M3zQ2"
      }
    },
    {
      "cell_type": "code",
      "source": [
        "\n",
        "from tensorflow.keras.layers import Conv1D, MaxPooling1D,Flatten,Dense,Dropout\n",
        "from tensorflow.keras.models import Sequential\n",
        "from sklearn.model_selection import train_test_split\n",
        "from sklearn.metrics import mean_absolute_error, mean_squared_error\n",
        "from tensorflow.keras.layers import Input\n",
        "\n"
      ],
      "metadata": {
        "id": "V1KZBjfw59zt"
      },
      "execution_count": null,
      "outputs": []
    },
    {
      "cell_type": "code",
      "source": [
        "prediction_combined.shape"
      ],
      "metadata": {
        "id": "2E5fNI5l6dJ5"
      },
      "execution_count": null,
      "outputs": []
    },
    {
      "cell_type": "code",
      "source": [
        "X_train_ens,X_test_ens,y_train_ens,y_test_ens=train_test_split(prediction_combined,y_test,test_size=0.2,shuffle=False)"
      ],
      "metadata": {
        "id": "ZwvBEewj6EeG"
      },
      "execution_count": null,
      "outputs": []
    },
    {
      "cell_type": "code",
      "source": [
        "from tensorflow.keras.regularizers import l2\n",
        "\n",
        "cnn_model = Sequential([\n",
        "    Conv1D(filters=64, kernel_size=2, activation='relu', kernel_regularizer=l2(0.001), input_shape=(4, 1)), # Changed input_shape to (4, 1)\n",
        "    Conv1D(filters=32, kernel_size=2, activation='relu', kernel_regularizer=l2(0.001)),\n",
        "    Flatten(),\n",
        "    Dense(64, activation='relu'),\n",
        "    Dropout(0.2),  # Dropout to prevent overfitting\n",
        "    Dense(32, activation='relu'), # This dense layer expects 32 features, so the previous layer output should match.\n",
        "    Dense(1)  # Output layer\n",
        "])\n",
        "cnn_model.compile(optimizer='adam', loss='mse')"
      ],
      "metadata": {
        "id": "l6HDf1FDztxM"
      },
      "execution_count": null,
      "outputs": []
    },
    {
      "cell_type": "code",
      "source": [
        "cnn_model.fit(X_train_ens,y_train_ens,epochs=200,validation_data=(X_test_ens, y_test_ens))"
      ],
      "metadata": {
        "collapsed": true,
        "id": "K6JV6OyQ5cN5"
      },
      "execution_count": null,
      "outputs": []
    },
    {
      "cell_type": "code",
      "source": [
        "prediction_cnn=cnn_model.predict(prediction_combined)"
      ],
      "metadata": {
        "id": "azs-tdvh7OzK"
      },
      "execution_count": null,
      "outputs": []
    },
    {
      "cell_type": "code",
      "source": [
        "prediction_cnn=prediction_cnn.flatten()"
      ],
      "metadata": {
        "id": "R4KJVUhn8GYS"
      },
      "execution_count": null,
      "outputs": []
    },
    {
      "cell_type": "code",
      "source": [
        "prediction_cnn.shape"
      ],
      "metadata": {
        "id": "5ghl64i78KjD"
      },
      "execution_count": null,
      "outputs": []
    },
    {
      "cell_type": "code",
      "source": [
        "y_test.shape"
      ],
      "metadata": {
        "id": "pu0Ll9Zq8PuG"
      },
      "execution_count": null,
      "outputs": []
    },
    {
      "cell_type": "markdown",
      "source": [
        "# **The inference of CNN Ensemble model on dataset:**"
      ],
      "metadata": {
        "id": "QPNvTxBmKrby"
      }
    },
    {
      "cell_type": "code",
      "source": [
        "sn.lineplot(y_test,color='black')\n",
        "sn.lineplot(prediction_cnn,label='predicted',color='magenta')\n",
        "mp.savefig(\"cnn.svg\", format='svg')"
      ],
      "metadata": {
        "id": "avdv7F5l8BSb"
      },
      "execution_count": null,
      "outputs": []
    },
    {
      "cell_type": "code",
      "source": [
        "loss_mse=mean_squared_error(y_test,prediction_cnn)\n",
        "difference=np.absolute(y_test-prediction_cnn)\n",
        "loss_mae=np.mean(difference)\n",
        "print(loss_mse)\n",
        "print(loss_mae)"
      ],
      "metadata": {
        "id": "USaBP9Fc8DvJ"
      },
      "execution_count": null,
      "outputs": []
    },
    {
      "cell_type": "markdown",
      "source": [
        "**<h2>Combining results using MLP model:-</h2>**"
      ],
      "metadata": {
        "id": "lP74XOgG_KIo"
      }
    },
    {
      "cell_type": "code",
      "source": [
        "mlp_model = Sequential([\n",
        "    Dense(400, activation='relu'),\n",
        "    BatchNormalization(),\n",
        "    Dense(300, activation='relu'),\n",
        "    BatchNormalization(),\n",
        "    Dense(200, activation='relu'),\n",
        "    BatchNormalization(),\n",
        "    Dense(100, activation='relu'),\n",
        "    BatchNormalization(),\n",
        "    Dense(64, activation='relu'),\n",
        "    BatchNormalization(),\n",
        "    Dense(32, activation='relu'),\n",
        "    Dense(1)\n",
        "])\n",
        "\n",
        "# Compile the model (Adam optimizer with MSE loss)\n",
        "mlp_model.compile(optimizer='adam', loss='mse', metrics=['mae'])\n",
        "\n",
        "# Model Summary\n",
        "mlp_model.summary()"
      ],
      "metadata": {
        "id": "CpZYQ7PJ8431"
      },
      "execution_count": null,
      "outputs": []
    },
    {
      "cell_type": "code",
      "source": [
        "prediction_combined.shape"
      ],
      "metadata": {
        "id": "At5C_eztAI0v"
      },
      "execution_count": null,
      "outputs": []
    },
    {
      "cell_type": "code",
      "source": [
        "\n",
        "early_stopping = EarlyStopping(monitor='val_loss', patience=150, restore_best_weights=True)\n",
        "# Fit the MLP model with the reshaped data\n",
        "mlp_model.fit(\n",
        "    prediction_combined,\n",
        "    y_test,\n",
        "    epochs=300,\n",
        "    validation_data=(X_test_ens, y_test_ens),\n",
        "    callbacks=[early_stopping]\n",
        ")"
      ],
      "metadata": {
        "id": "BfXmN-sX_bdh"
      },
      "execution_count": null,
      "outputs": []
    },
    {
      "cell_type": "code",
      "source": [
        "\n",
        "mlp_loss, mlp_mae = mlp_model.evaluate(X_test_ens, y_test_ens)\n",
        "print(f\"MLP Test Loss (MSE): {mlp_loss}\")\n",
        "print(f\"MLP Test MAE: {mlp_mae}\")"
      ],
      "metadata": {
        "id": "FUHXUDES_lHP"
      },
      "execution_count": null,
      "outputs": []
    },
    {
      "cell_type": "code",
      "source": [
        "mlp_predictions = mlp_model.predict(prediction_combined)"
      ],
      "metadata": {
        "id": "2wzZALT3_yCJ"
      },
      "execution_count": null,
      "outputs": []
    },
    {
      "cell_type": "code",
      "source": [
        "mlp_predictions=mlp_predictions.flatten()"
      ],
      "metadata": {
        "id": "cyekZecd_5Bn"
      },
      "execution_count": null,
      "outputs": []
    },
    {
      "cell_type": "markdown",
      "source": [
        "# **The inference of the MLP Ensemble Model on Dataset:**"
      ],
      "metadata": {
        "id": "yX69NrbSK3of"
      }
    },
    {
      "cell_type": "code",
      "source": [
        "sn.lineplot(y_test,color='black')\n",
        "sn.lineplot(mlp_predictions,label='predicted',color='darkgoldenrod')\n",
        "mp.savefig(\"mlp.svg\", format='svg')"
      ],
      "metadata": {
        "id": "hQnODPiX_7bT"
      },
      "execution_count": null,
      "outputs": []
    },
    {
      "cell_type": "code",
      "source": [
        "mlp_loss, mlp_mae = mlp_model.evaluate(X_test_ens, y_test_ens)\n",
        "print(f\"MLP Test Loss (MSE): {mlp_loss}\")\n",
        "print(f\"MLP Test MAE: {mlp_mae}\")"
      ],
      "metadata": {
        "id": "c8yMZyDQEEn2"
      },
      "execution_count": null,
      "outputs": []
    },
    {
      "cell_type": "markdown",
      "source": [
        "**<h1>Comparing all the predictions:-</h1>**"
      ],
      "metadata": {
        "id": "23__n_fdFIh7"
      }
    },
    {
      "cell_type": "code",
      "source": [
        "colors = {\n",
        "    \"Actual\": \"black\",\n",
        "    \"Ensemble Model:Simple Mean\": \"#E69F00\",   # orange\n",
        "    \"Single Model:Transformer\": \"#56B4E9\",     # sky blue\n",
        "    \"Ensemble Model:CNN\": \"#009E73\",          # green\n",
        "    \"Ensemble Model:MLP\": \"#F0E442\",          # yellow\n",
        "    \"Single Model:ARIMA\": \"#0072B2\",          # blue\n",
        "    \"Single Model:LSTM\": \"#D55E00\",           # reddish orange\n",
        "    \"Single Model:VAR\": \"#CC79A7\",            # pink\n",
        "}\n",
        "\n",
        "figure = mp.figure(figsize=(20,10))\n",
        "\n",
        "sn.lineplot(x=range(len(y_test)),y=y_test,label=\"Actual\", color=colors[\"Actual\"])\n",
        "sn.lineplot(x=range(len(predictions_meaned)),y=predictions_meaned, label=\"Ensemble Model:Simple Mean\", color=colors[\"Ensemble Model:Simple Mean\"])\n",
        "sn.lineplot(x=range(len(predictions_transformer)),y=predictions_transformer, label=\"Single Model:Transformer\", color=colors[\"Single Model:Transformer\"])\n",
        "sn.lineplot(x=range(len(prediction_cnn)),y=prediction_cnn, label=\"Ensemble Model:CNN\", color=colors[\"Ensemble Model:CNN\"])\n",
        "sn.lineplot(x=range(len(mlp_predictions)),y=mlp_predictions, label=\"Ensemble Model:MLP\", color=colors[\"Ensemble Model:MLP\"])\n",
        "sn.lineplot(x=range(len(prediction_arima)),y=prediction_arima, label=\"Single Model:ARIMA\", color=colors[\"Single Model:ARIMA\"])\n",
        "sn.lineplot(x=range(len(prediction_lstm)),y=prediction_lstm, label=\"Single Model:LSTM\", color=colors[\"Single Model:LSTM\"])\n",
        "sn.lineplot(x=range(len(prediction_var)),y=prediction_var, label=\"Single Model:VAR\", color=colors[\"Single Model:VAR\"])\n",
        "mp.savefig(\"comparison.svg\", format='svg')\n",
        "mp.title(\"Comparison of All Models\")\n",
        "mp.legend(loc='upper right')\n",
        "mp.grid(True)"
      ],
      "metadata": {
        "id": "FQxjJEMrELuU"
      },
      "execution_count": null,
      "outputs": []
    },
    {
      "cell_type": "code",
      "source": [
        "\n",
        "all_loss_mse=[mean_squared_error(y_test,predictions_meaned),mean_squared_error(y_test,prediction_cnn),mean_squared_error(y_test,mlp_predictions),mean_squared_error(y_test,prediction_arima),mean_squared_error(y_test,prediction_lstm),mean_squared_error(y_test,prediction_var),mean_squared_error(y_test,predictions_transformer)]\n"
      ],
      "metadata": {
        "id": "JjHrxGDtFvQp"
      },
      "execution_count": null,
      "outputs": []
    },
    {
      "cell_type": "code",
      "source": [
        "all_loss_mse"
      ],
      "metadata": {
        "id": "SdGuOKlKGjil"
      },
      "execution_count": null,
      "outputs": []
    },
    {
      "cell_type": "code",
      "source": [
        "mp.ylabel('Mean Squared Errors')\n",
        "mp.xlabel('Model')\n",
        "sn.barplot(x=['Simple Mean','CNN','MLP','ARIMA','LSTM','VAR','Transformer'],y=all_loss_mse,palette='Set2')\n",
        "mp.savefig(\"bars.svg\", format='svg')"
      ],
      "metadata": {
        "id": "GeLC6TtyGr97"
      },
      "execution_count": null,
      "outputs": []
    },
    {
      "cell_type": "code",
      "source": [],
      "metadata": {
        "id": "8EKjfgq94E3C"
      },
      "execution_count": null,
      "outputs": []
    }
  ]
}